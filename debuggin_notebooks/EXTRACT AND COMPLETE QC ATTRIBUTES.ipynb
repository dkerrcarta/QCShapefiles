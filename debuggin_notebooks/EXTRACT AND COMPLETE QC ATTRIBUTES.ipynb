{
 "cells": [
  {
   "cell_type": "code",
   "execution_count": 3,
   "metadata": {},
   "outputs": [
    {
     "name": "stdout",
     "output_type": "stream",
     "text": [
      "WV_C18_L12_points.shp has been overwritten in the same location .\n",
      "Please remove the shapefile from GIS and reload to see changes.\n"
     ]
    },
    {
     "data": {
      "text/plain": [
       "<make_qc_shapefiles.interpretation_extraction.ExtractInterpretationToPoints at 0x15ac9ff2978>"
      ]
     },
     "execution_count": 3,
     "metadata": {},
     "output_type": "execute_result"
    }
   ],
   "source": [
    "from make_qc_shapefiles.interpretation_extraction import ExtractInterpretationToPoints, CompleteQCAttributes\n",
    "\n",
    "\"\"\"Following interpretation editing of the habitat tiles in \n",
    "    \\\\TCMHarwell\\Harwell\\ProjectData\\2019\\PN19032_EAD_Habitat_Mapping\\02_Processed_Data\\WV_2014_HabitatMap\\Habitat_Orthotile_Intersection\n",
    "    overwrite the tiles in the same location and run the following function to extract the habitat values to the point shapefile.\n",
    "    ---\n",
    "    Input only the ORTHOID (i.e. ExtractInterpretationToPoints('WV_C21_L08'))\n",
    "    ---\n",
    "    This code will update the point shapefiles\n",
    "    ---\n",
    "\"\"\"\n",
    "ExtractInterpretationToPoints('WV_C18_L12')"
   ]
  },
  {
   "cell_type": "code",
   "execution_count": 4,
   "metadata": {},
   "outputs": [
    {
     "name": "stdout",
     "output_type": "stream",
     "text": [
      "0     6100\n",
      "1     6100\n",
      "2     6100\n",
      "3     6100\n",
      "4     6100\n",
      "5     6100\n",
      "6     6100\n",
      "7     6100\n",
      "8     6100\n",
      "9     6100\n",
      "10    6100\n",
      "11    6100\n",
      "12    6100\n",
      "13    6100\n",
      "14    6100\n",
      "15    6100\n",
      "16    6100\n",
      "17    6100\n",
      "18    6100\n",
      "19    6100\n",
      "20    6100\n",
      "21    6100\n",
      "22    6100\n",
      "23    6100\n",
      "24    6100\n",
      "25    6100\n",
      "26    6100\n",
      "27    6100\n",
      "28    6100\n",
      "29    6100\n",
      "30    6100\n",
      "31    6100\n",
      "32    6100\n",
      "33    6100\n",
      "34    6100\n",
      "35    6100\n",
      "36    6100\n",
      "37    6100\n",
      "38    6100\n",
      "39    6100\n",
      "40    6100\n",
      "41    6100\n",
      "42    6100\n",
      "43    6100\n",
      "44    6100\n",
      "45    6100\n",
      "46    6100\n",
      "47    6100\n",
      "48    6100\n",
      "49    6100\n",
      "50    6100\n",
      "Name: QC_subNum, dtype: int32\n"
     ]
    },
    {
     "data": {
      "text/plain": [
       "<make_qc_shapefiles.interpretation_extraction.CompleteQCAttributes at 0x15ac9ff2128>"
      ]
     },
     "execution_count": 4,
     "metadata": {},
     "output_type": "execute_result"
    }
   ],
   "source": [
    "from make_qc_shapefiles.interpretation_extraction import ExtractInterpretationToPoints, CompleteQCAttributes\n",
    "\"\"\"\n",
    "After inputting codes in the QC_num field in the points shapefile, run the following function to fill the QC_cls field with the\n",
    "appropriate class.\n",
    "---\n",
    "Input only the orthoid and checker's name\n",
    "---\n",
    "This code will update the point shapefiles \n",
    "---\n",
    "\"\"\"\n",
    "CompleteQCAttributes('WV_C18_L12', 'David')"
   ]
  },
  {
   "cell_type": "code",
   "execution_count": 20,
   "metadata": {},
   "outputs": [
    {
     "name": "stdout",
     "output_type": "stream",
     "text": [
      "[0, 1, 2, 3, 4, 5, 6, 7, 8, 9, 10, 11, 12, 13, 14, 15, 16, 17, 18, 19, 20, 21, 22, 23, 25, 26, 27, 28, 29, 30, 31, 32, 33, 34, 35, 36, 37, 38, 39, 40, 41, 42, 43, 44, 45, 46, 47, 48, 49, 24]\n",
      "he\n"
     ]
    }
   ],
   "source": [
    "import geopandas as gpd\n",
    "import pandas as pd\n",
    "from pathlib import Path\n",
    "shp = Path(r'F:\\Documents\\projects\\PN19032_EAD_Habitat_Mapping\\programming\\qc-shapefiles\\QCShapefiles\\test\\test_data\\test_data_out\\WV_C20_L12/WV_C20_L12_points.shp').resolve()\n",
    "gdf = gpd.read_file(shp)\n",
    "print(list(gdf['ID'][gdf['QC_cls'].isnull()]))\n",
    "if gdf['QC_cls'].isnull().any():\n",
    "    print('he')"
   ]
  }
 ],
 "metadata": {
  "kernelspec": {
   "display_name": "Python 3",
   "language": "python",
   "name": "python3"
  },
  "language_info": {
   "codemirror_mode": {
    "name": "ipython",
    "version": 3
   },
   "file_extension": ".py",
   "mimetype": "text/x-python",
   "name": "python",
   "nbconvert_exporter": "python",
   "pygments_lexer": "ipython3",
   "version": "3.6.9"
  }
 },
 "nbformat": 4,
 "nbformat_minor": 2
}
