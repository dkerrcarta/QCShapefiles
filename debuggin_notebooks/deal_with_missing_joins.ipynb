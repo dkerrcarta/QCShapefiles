{
 "cells": [
  {
   "cell_type": "code",
   "execution_count": 13,
   "metadata": {},
   "outputs": [],
   "source": [
    "from pathlib import Path\n",
    "import geopandas as gpd\n",
    "import pandas as pd\n",
    "import numpy as np\n",
    "\n",
    "BASE_DIR = Path('.').resolve().parent\n",
    "tile_shp = BASE_DIR.joinpath('data/datain/tile_shp/PN19032_THabitat_UTM39N.shp')\n",
    "out_dir = BASE_DIR.joinpath('data/dataout')\n",
    "txt_file = BASE_DIR.joinpath('QCShapefiles/missing_joins.txt')\n",
    "with open(txt_file, 'r') as f:\n",
    "    missing_joins = f.readlines()\n",
    "stripped_joins = []\n",
    "for i in missing_joins:\n",
    "    stripped_joins.append(i.strip('\\n'))\n",
    "\n",
    "gdf = gpd.read_file(tile_shp)\n",
    "gdf_missing = gdf[gdf['OrthoID'].isin(stripped_joins)]\n"
   ]
  },
  {
   "cell_type": "code",
   "execution_count": 15,
   "metadata": {},
   "outputs": [
    {
     "data": {
      "text/plain": [
       "<matplotlib.axes._subplots.AxesSubplot at 0x2377034a940>"
      ]
     },
     "execution_count": 15,
     "metadata": {},
     "output_type": "execute_result"
    },
    {
     "data": {
      "image/png": "[encoded data removed]",
      "text/plain": [
       "<Figure size 432x288 with 1 Axes>"
      ]
     },
     "metadata": {
      "needs_background": "light"
     },
     "output_type": "display_data"
    }
   ],
   "source": [
    "gdf_missing.plot()"
   ]
  },
  {
   "cell_type": "code",
   "execution_count": 16,
   "metadata": {},
   "outputs": [],
   "source": [
    "gdf_missing.to_file(tile_shp.parent.joinpath('OrthoID_no_habitat_intersection.shp'))"
   ]
  },
  {
   "cell_type": "code",
   "execution_count": 23,
   "metadata": {},
   "outputs": [],
   "source": [
    "import shutil\n",
    "no_hab = out_dir.joinpath('no_habiat_join')\n",
    "if not no_hab.exists():\n",
    "    no_hab.mkdir(parents=True, exist_ok=True)\n",
    "for i in stripped_joins:\n",
    "    empty_folder = out_dir.joinpath(i)\n",
    "    if not [x for x in empty_folder.iterdir()]:\n",
    "        shutil.move(empty_folder, no_hab.joinpath(empty_folder.name))\n",
    "    else:\n",
    "        print(i)"
   ]
  },
  {
   "cell_type": "code",
   "execution_count": 25,
   "metadata": {},
   "outputs": [
    {
     "name": "stdout",
     "output_type": "stream",
     "text": [
      "63\n"
     ]
    }
   ],
   "source": [
    "count = 0\n",
    "count_ = 0 \n",
    "for i in stripped_joins:\n",
    "    empty_folder = out_dir.joinpath(i)\n",
    "    moved_folder = out_dir.joinpath(f'no_habitat_join')\n",
    "    if not empty_folder.exists():\n",
    "        count += 1\n",
    "    \n",
    "print(count)\n",
    "    "
   ]
  }
 ],
 "metadata": {
  "kernelspec": {
   "display_name": "Python 3",
   "language": "python",
   "name": "python3"
  },
  "language_info": {
   "codemirror_mode": {
    "name": "ipython",
    "version": 3
   },
   "file_extension": ".py",
   "mimetype": "text/x-python",
   "name": "python",
   "nbconvert_exporter": "python",
   "pygments_lexer": "ipython3",
   "version": "3.6.9"
  }
 },
 "nbformat": 4,
 "nbformat_minor": 2
}
