{
 "cells": [
  {
   "cell_type": "code",
   "execution_count": 11,
   "metadata": {},
   "outputs": [
    {
     "name": "stdout",
     "output_type": "stream",
     "text": [
      "AlHoubara_24bitRGB_Mosiac_C15_L15.tif done\n",
      "AlHoubara_24bitRGB_Mosiac_C15_L16.tif done\n",
      "AlHoubara_24bitRGB_Mosiac_C15_L17.tif done\n",
      "AlHoubara_24bitRGB_Mosiac_C16_L15.tif done\n",
      "AlHoubara_24bitRGB_Mosiac_C16_L16.tif done\n",
      "AlHoubara_24bitRGB_Mosiac_C16_L17.tif done\n",
      "AlHoubara_24bitRGB_Mosiac_C17_L15.tif done\n",
      "AlHoubara_24bitRGB_Mosiac_C17_L16.tif done\n",
      "AlHoubara_24bitRGB_Mosiac_C17_L17.tif done\n",
      "AlHoubara_24bitRGB_Mosiac_C18_L15.tif done\n",
      "AlHoubara_24bitRGB_Mosiac_C18_L16.tif done\n",
      "AlHoubara_24bitRGB_Mosiac_C18_L17.tif done\n",
      "AlHoubara_24bitRGB_Mosiac_C19_L15.tif done\n",
      "AlHoubara_24bitRGB_Mosiac_C19_L16.tif done\n",
      "AlHoubara_24bitRGB_Mosiac_C19_L17.tif done\n",
      "AlHoubara_24bitRGB_Mosiac_C20_L15.tif done\n",
      "AlHoubara_24bitRGB_Mosiac_C20_L16.tif done\n",
      "AlHoubara_24bitRGB_Mosiac_C20_L17.tif done\n",
      "AlHoubara_24bitRGB_Mosiac_C21_L15.tif done\n",
      "AlHoubara_24bitRGB_Mosiac_C21_L16.tif done\n",
      "AlHoubara_24bitRGB_Mosiac_C21_L17.tif done\n"
     ]
    }
   ],
   "source": [
    "from pathlib import Path\n",
    "import shutil\n",
    "\n",
    "BASE_DIR = Path('F:\\Documents\\projects\\PN19032_EAD_Habitat_Mapping\\programming\\qc-shapefiles\\data').resolve()\n",
    "src_dir = BASE_DIR.joinpath('WV_MUL_Mosiac')\n",
    "dst_dir = BASE_DIR.joinpath('Habitat_Orthotile_Intersection')\n",
    "\n",
    "rasters = [x for x in src_dir.iterdir() if x.name.endswith('.tif')]\n",
    "for raster in rasters:\n",
    "    tile_name = '_'.join(raster.name.split('_')[-2:])[:-4]\n",
    "    dst_folder = dst_dir.joinpath(f'WV_{tile_name}')\n",
    "    shutil.copy2(raster, dst_folder)\n",
    "    print(f'{raster.name} done')"
   ]
  }
 ],
 "metadata": {
  "kernelspec": {
   "display_name": "Python 3",
   "language": "python",
   "name": "python3"
  },
  "language_info": {
   "codemirror_mode": {
    "name": "ipython",
    "version": 3
   },
   "file_extension": ".py",
   "mimetype": "text/x-python",
   "name": "python",
   "nbconvert_exporter": "python",
   "pygments_lexer": "ipython3",
   "version": "3.6.9"
  }
 },
 "nbformat": 4,
 "nbformat_minor": 2
}
