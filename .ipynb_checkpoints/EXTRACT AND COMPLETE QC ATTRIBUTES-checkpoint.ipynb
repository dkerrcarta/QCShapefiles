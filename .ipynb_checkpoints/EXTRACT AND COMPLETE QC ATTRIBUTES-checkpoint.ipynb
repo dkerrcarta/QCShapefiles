{
 "cells": [
  {
   "cell_type": "code",
   "execution_count": 1,
   "metadata": {},
   "outputs": [
    {
     "ename": "ValueError",
     "evalue": "Please check orthoid. There is no folder relating to this orthoid in F:\\Documents\\projects\\PN19032_EAD_Habitat_Mapping\\programming\\qc-shapefiles\\QCShapefiles\\test\\test_data\\test_data_out.",
     "output_type": "error",
     "traceback": [
      "\u001b[1;31m---------------------------------------------------------------------------\u001b[0m",
      "\u001b[1;31mValueError\u001b[0m                                Traceback (most recent call last)",
      "\u001b[1;32m<ipython-input-1-d6a41d537990>\u001b[0m in \u001b[0;36m<module>\u001b[1;34m\u001b[0m\n\u001b[0;32m      9\u001b[0m     \u001b[1;33m-\u001b[0m\u001b[1;33m-\u001b[0m\u001b[1;33m-\u001b[0m\u001b[1;33m\u001b[0m\u001b[1;33m\u001b[0m\u001b[0m\n\u001b[0;32m     10\u001b[0m \"\"\"\n\u001b[1;32m---> 11\u001b[1;33m \u001b[0mx\u001b[0m \u001b[1;33m=\u001b[0m\u001b[0mExtractInterpretationToPoints\u001b[0m\u001b[1;33m(\u001b[0m\u001b[1;34m'WV_C18_L15'\u001b[0m\u001b[1;33m)\u001b[0m\u001b[1;33m\u001b[0m\u001b[1;33m\u001b[0m\u001b[0m\n\u001b[0m",
      "\u001b[1;32mF:\\Documents\\projects\\PN19032_EAD_Habitat_Mapping\\programming\\qc-shapefiles\\QCShapefiles\\make_qc_shapefiles\\interpretation_extraction.py\u001b[0m in \u001b[0;36m__init__\u001b[1;34m(self, orthoid)\u001b[0m\n\u001b[0;32m     31\u001b[0m             \u001b[0mself\u001b[0m\u001b[1;33m.\u001b[0m\u001b[0morthoid\u001b[0m \u001b[1;33m=\u001b[0m \u001b[0morthoid\u001b[0m\u001b[1;33m\u001b[0m\u001b[1;33m\u001b[0m\u001b[0m\n\u001b[0;32m     32\u001b[0m         \u001b[1;32melse\u001b[0m\u001b[1;33m:\u001b[0m\u001b[1;33m\u001b[0m\u001b[1;33m\u001b[0m\u001b[0m\n\u001b[1;32m---> 33\u001b[1;33m             \u001b[1;32mraise\u001b[0m \u001b[0mValueError\u001b[0m\u001b[1;33m(\u001b[0m\u001b[1;34mf\"Please check orthoid. There is no folder relating to this orthoid in {str(ROOT_DIR)}.\"\u001b[0m\u001b[1;33m)\u001b[0m\u001b[1;33m\u001b[0m\u001b[1;33m\u001b[0m\u001b[0m\n\u001b[0m\u001b[0;32m     34\u001b[0m         \u001b[0mself\u001b[0m\u001b[1;33m.\u001b[0m\u001b[0mtile\u001b[0m\u001b[1;33m,\u001b[0m \u001b[0mself\u001b[0m\u001b[1;33m.\u001b[0m\u001b[0mpoint\u001b[0m \u001b[1;33m=\u001b[0m \u001b[0mself\u001b[0m\u001b[1;33m.\u001b[0m\u001b[0mget_shapefile_paths\u001b[0m\u001b[1;33m(\u001b[0m\u001b[0mself\u001b[0m\u001b[1;33m.\u001b[0m\u001b[0morthoid\u001b[0m\u001b[1;33m)\u001b[0m\u001b[1;33m\u001b[0m\u001b[1;33m\u001b[0m\u001b[0m\n\u001b[0;32m     35\u001b[0m         \u001b[0mself\u001b[0m\u001b[1;33m.\u001b[0m\u001b[0mgdf_join\u001b[0m \u001b[1;33m=\u001b[0m \u001b[0mself\u001b[0m\u001b[1;33m.\u001b[0m\u001b[0mspatial_join\u001b[0m\u001b[1;33m(\u001b[0m\u001b[0mself\u001b[0m\u001b[1;33m.\u001b[0m\u001b[0mpoint\u001b[0m\u001b[1;33m,\u001b[0m \u001b[0mself\u001b[0m\u001b[1;33m.\u001b[0m\u001b[0mtile\u001b[0m\u001b[1;33m)\u001b[0m\u001b[1;33m\u001b[0m\u001b[1;33m\u001b[0m\u001b[0m\n",
      "\u001b[1;31mValueError\u001b[0m: Please check orthoid. There is no folder relating to this orthoid in F:\\Documents\\projects\\PN19032_EAD_Habitat_Mapping\\programming\\qc-shapefiles\\QCShapefiles\\test\\test_data\\test_data_out."
     ]
    }
   ],
   "source": [
    "from make_qc_shapefiles.interpretation_extraction import ExtractInterpretationToPoints, CompleteQCAttributes\n",
    "\n",
    "\"\"\"Following interpretation editing of the habitat tiles in \n",
    "    \\\\TCMHarwell\\Harwell\\ProjectData\\2019\\PN19032_EAD_Habitat_Mapping\\02_Processed_Data\\WV_2014_HabitatMap\\Habitat_Orthotile_Intersection\n",
    "    overwrite the tiles in the same location and run the following function to extract the habitat values to the point shapefile.\n",
    "    Input only the ORTHOID (i.e. ExtractInterpretationToPoints('WV_C21_L08'))\n",
    "    ---\n",
    "    This code will update the point shapefiles\n",
    "    ---\n",
    "\"\"\"\n",
    "x =ExtractInterpretationToPoints('WV_C19_L12')"
   ]
  }
 ],
 "metadata": {
  "kernelspec": {
   "display_name": "Python 3",
   "language": "python",
   "name": "python3"
  },
  "language_info": {
   "codemirror_mode": {
    "name": "ipython",
    "version": 3
   },
   "file_extension": ".py",
   "mimetype": "text/x-python",
   "name": "python",
   "nbconvert_exporter": "python",
   "pygments_lexer": "ipython3",
   "version": "3.6.9"
  }
 },
 "nbformat": 4,
 "nbformat_minor": 2
}
