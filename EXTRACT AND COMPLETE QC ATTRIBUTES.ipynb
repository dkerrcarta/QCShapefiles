{
 "cells": [
  {
   "cell_type": "code",
   "execution_count": 1,
   "metadata": {},
   "outputs": [
    {
     "name": "stdout",
     "output_type": "stream",
     "text": [
      "WV_C20_L14_points.shp has been overwritten in the same location .\n",
      "Please remove the shapefile from GIS and reload to see changes.\n"
     ]
    },
    {
     "data": {
      "text/plain": [
       "<make_qc_shapefiles.interpretation_extraction.ExtractInterpretationToPoints at 0x2d0a79df160>"
      ]
     },
     "execution_count": 1,
     "metadata": {},
     "output_type": "execute_result"
    }
   ],
   "source": [
    "from make_qc_shapefiles.interpretation_extraction import ExtractInterpretationToPoints, CompleteQCAttributes\n",
    "\n",
    "\"\"\"Following interpretation editing of the habitat tiles in \n",
    "    \\\\TCMHarwell\\Harwell\\ProjectData\\2019\\PN19032_EAD_Habitat_Mapping\\02_Processed_Data\\WV_2014_HabitatMap\\Habitat_Orthotile_Intersection\n",
    "    overwrite the tiles in the same location and run the following function to extract the habitat values to the point shapefile.\n",
    "    ---\n",
    "    Input only the ORTHOID (i.e. ExtractInterpretationToPoints('WV_C21_L08'))\n",
    "    ---\n",
    "    This code will update the point shapefiles\n",
    "    ---\n",
    "\"\"\"\n",
    "ExtractInterpretationToPoints('WV_C20_L14')"
   ]
  },
  {
   "cell_type": "code",
   "execution_count": 2,
   "metadata": {},
   "outputs": [
    {
     "name": "stdout",
     "output_type": "stream",
     "text": [
      "The following Point shp IDs' QC_nums are missing, incorrect or not valid. Please check these are correct and rerun function:\n",
      " [26, 41, 42, 44, 49]\n"
     ]
    },
    {
     "data": {
      "text/plain": [
       "<make_qc_shapefiles.interpretation_extraction.CompleteQCAttributes at 0x2d0aa4e7860>"
      ]
     },
     "execution_count": 2,
     "metadata": {},
     "output_type": "execute_result"
    }
   ],
   "source": [
    "from make_qc_shapefiles.interpretation_extraction import ExtractInterpretationToPoints, CompleteQCAttributes\n",
    "\"\"\"\n",
    "After inputting codes in the QC_num field in the points shapefile, run the following function to fill the QC_cls field with the\n",
    "appropriate class.\n",
    "---\n",
    "Input only the orthoid and checker's name\n",
    "---\n",
    "This code will update the point shapefiles \n",
    "---\n",
    "\"\"\"\n",
    "CompleteQCAttributes('WV_C20_L12', 'David')"
   ]
  },
  {
   "cell_type": "code",
   "execution_count": 20,
   "metadata": {},
   "outputs": [
    {
     "name": "stdout",
     "output_type": "stream",
     "text": [
      "[0, 1, 2, 3, 4, 5, 6, 7, 8, 9, 10, 11, 12, 13, 14, 15, 16, 17, 18, 19, 20, 21, 22, 23, 25, 26, 27, 28, 29, 30, 31, 32, 33, 34, 35, 36, 37, 38, 39, 40, 41, 42, 43, 44, 45, 46, 47, 48, 49, 24]\n",
      "he\n"
     ]
    }
   ],
   "source": [
    "import geopandas as gpd\n",
    "import pandas as pd\n",
    "from pathlib import Path\n",
    "shp = Path(r'F:\\Documents\\projects\\PN19032_EAD_Habitat_Mapping\\programming\\qc-shapefiles\\QCShapefiles\\test\\test_data\\test_data_out\\WV_C20_L12/WV_C20_L12_points.shp').resolve()\n",
    "gdf = gpd.read_file(shp)\n",
    "print(list(gdf['ID'][gdf['QC_cls'].isnull()]))\n",
    "if gdf['QC_cls'].isnull().any():\n",
    "    print('he')"
   ]
  }
 ],
 "metadata": {
  "kernelspec": {
   "display_name": "Python 3",
   "language": "python",
   "name": "python3"
  },
  "language_info": {
   "codemirror_mode": {
    "name": "ipython",
    "version": 3
   },
   "file_extension": ".py",
   "mimetype": "text/x-python",
   "name": "python",
   "nbconvert_exporter": "python",
   "pygments_lexer": "ipython3",
   "version": "3.6.9"
  }
 },
 "nbformat": 4,
 "nbformat_minor": 2
}
