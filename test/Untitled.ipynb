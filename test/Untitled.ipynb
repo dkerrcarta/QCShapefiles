{
 "cells": [
  {
   "cell_type": "code",
   "execution_count": 8,
   "metadata": {},
   "outputs": [
    {
     "name": "stdout",
     "output_type": "stream",
     "text": [
      "39446\n",
      "C19_L13\n"
     ]
    }
   ],
   "source": [
    "from pathlib import Path\n",
    "import geopandas as gpd\n",
    "import numpy as np\n",
    "\n",
    "BASE_DIR = Path('.').resolve()\n",
    "hab = BASE_DIR.joinpath('test_data/test_data_in/habitat_shp/test_habitat.shp')\n",
    "grid = BASE_DIR.joinpath('test_data/test_data_in/tile_shp/test_tiles.shp')\n",
    "\n",
    "hab_gdf = gpd.read_file(hab)\n",
    "grid_gdf = gpd.read_file(grid)\n",
    "print(hab_gdf['Id'][142])\n",
    "print(grid_gdf['NAME'][4])"
   ]
  },
  {
   "cell_type": "code",
   "execution_count": 11,
   "metadata": {},
   "outputs": [
    {
     "name": "stdout",
     "output_type": "stream",
     "text": [
      "['Id', 'HabitatTyp', 'HabitatT_1', 'HabitatSub', 'HabitatS_1', 'Area_KM', 'Area_HA', 'MMU_HA', 'RuleID', 'Shape_Leng', 'Shape_Area', 'geometry']\n",
      "['NAME' 'OrthoID' 'geometry']\n"
     ]
    }
   ],
   "source": [
    "print(list(hab_gdf.columns))\n",
    "print(grid_gdf.columns.values)"
   ]
  }
 ],
 "metadata": {
  "kernelspec": {
   "display_name": "Python 3",
   "language": "python",
   "name": "python3"
  },
  "language_info": {
   "codemirror_mode": {
    "name": "ipython",
    "version": 3
   },
   "file_extension": ".py",
   "mimetype": "text/x-python",
   "name": "python",
   "nbconvert_exporter": "python",
   "pygments_lexer": "ipython3",
   "version": "3.6.9"
  }
 },
 "nbformat": 4,
 "nbformat_minor": 2
}
